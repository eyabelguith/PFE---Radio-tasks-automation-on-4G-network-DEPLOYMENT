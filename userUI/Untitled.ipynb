{
 "cells": [
  {
   "cell_type": "code",
   "execution_count": 14,
   "id": "0d920738",
   "metadata": {},
   "outputs": [
    {
     "name": "stdout",
     "output_type": "stream",
     "text": [
      "1e9655ff401998b6c71b0faab31b5d33\n"
     ]
    }
   ],
   "source": [
    "import secrets\n",
    "print(secrets.token_hex(16))\n"
   ]
  },
  {
   "cell_type": "code",
   "execution_count": 16,
   "id": "e7d8cc70",
   "metadata": {},
   "outputs": [
    {
     "ename": "AttributeError",
     "evalue": "module 'sqlalchemy' has no attribute '__all__'",
     "output_type": "error",
     "traceback": [
      "\u001b[1;31m---------------------------------------------------------------------------\u001b[0m",
      "\u001b[1;31mAttributeError\u001b[0m                            Traceback (most recent call last)",
      "Cell \u001b[1;32mIn[16], line 3\u001b[0m\n\u001b[0;32m      1\u001b[0m \u001b[38;5;66;03m# reset_db.py\u001b[39;00m\n\u001b[0;32m      2\u001b[0m \u001b[38;5;28;01mfrom\u001b[39;00m \u001b[38;5;21;01mapp\u001b[39;00m \u001b[38;5;28;01mimport\u001b[39;00m app\n\u001b[1;32m----> 3\u001b[0m \u001b[38;5;28;01mfrom\u001b[39;00m \u001b[38;5;21;01mextensions\u001b[39;00m \u001b[38;5;28;01mimport\u001b[39;00m db\n\u001b[0;32m      5\u001b[0m \u001b[38;5;28;01mwith\u001b[39;00m app\u001b[38;5;241m.\u001b[39mapp_context():\n\u001b[0;32m      6\u001b[0m     \u001b[38;5;66;03m# Drop existing tables\u001b[39;00m\n\u001b[0;32m      7\u001b[0m     db\u001b[38;5;241m.\u001b[39mdrop_all()\n",
      "File \u001b[1;32m~\\Downloads\\try1Code\\Deployment\\extensions.py:3\u001b[0m\n\u001b[0;32m      1\u001b[0m \u001b[38;5;28;01mfrom\u001b[39;00m \u001b[38;5;21;01mflask_sqlalchemy\u001b[39;00m \u001b[38;5;28;01mimport\u001b[39;00m SQLAlchemy\n\u001b[1;32m----> 3\u001b[0m db \u001b[38;5;241m=\u001b[39m SQLAlchemy()\n",
      "File \u001b[1;32m~\\anaconda3\\Lib\\site-packages\\flask_sqlalchemy\\__init__.py:758\u001b[0m, in \u001b[0;36mSQLAlchemy.__init__\u001b[1;34m(self, app, use_native_unicode, session_options, metadata, query_class, model_class, engine_options)\u001b[0m\n\u001b[0;32m    756\u001b[0m \u001b[38;5;28mself\u001b[39m\u001b[38;5;241m.\u001b[39mapp \u001b[38;5;241m=\u001b[39m app\n\u001b[0;32m    757\u001b[0m \u001b[38;5;28mself\u001b[39m\u001b[38;5;241m.\u001b[39m_engine_options \u001b[38;5;241m=\u001b[39m engine_options \u001b[38;5;129;01mor\u001b[39;00m {}\n\u001b[1;32m--> 758\u001b[0m _include_sqlalchemy(\u001b[38;5;28mself\u001b[39m, query_class)\n\u001b[0;32m    760\u001b[0m \u001b[38;5;28;01mif\u001b[39;00m app \u001b[38;5;129;01mis\u001b[39;00m \u001b[38;5;129;01mnot\u001b[39;00m \u001b[38;5;28;01mNone\u001b[39;00m:\n\u001b[0;32m    761\u001b[0m     \u001b[38;5;28mself\u001b[39m\u001b[38;5;241m.\u001b[39minit_app(app)\n",
      "File \u001b[1;32m~\\anaconda3\\Lib\\site-packages\\flask_sqlalchemy\\__init__.py:112\u001b[0m, in \u001b[0;36m_include_sqlalchemy\u001b[1;34m(obj, cls)\u001b[0m\n\u001b[0;32m    110\u001b[0m \u001b[38;5;28;01mdef\u001b[39;00m \u001b[38;5;21m_include_sqlalchemy\u001b[39m(obj, \u001b[38;5;28mcls\u001b[39m):\n\u001b[0;32m    111\u001b[0m     \u001b[38;5;28;01mfor\u001b[39;00m module \u001b[38;5;129;01min\u001b[39;00m sqlalchemy, sqlalchemy\u001b[38;5;241m.\u001b[39morm:\n\u001b[1;32m--> 112\u001b[0m         \u001b[38;5;28;01mfor\u001b[39;00m key \u001b[38;5;129;01min\u001b[39;00m module\u001b[38;5;241m.\u001b[39m__all__:\n\u001b[0;32m    113\u001b[0m             \u001b[38;5;28;01mif\u001b[39;00m \u001b[38;5;129;01mnot\u001b[39;00m \u001b[38;5;28mhasattr\u001b[39m(obj, key):\n\u001b[0;32m    114\u001b[0m                 \u001b[38;5;28msetattr\u001b[39m(obj, key, \u001b[38;5;28mgetattr\u001b[39m(module, key))\n",
      "File \u001b[1;32m~\\anaconda3\\Lib\\site-packages\\sqlalchemy\\__init__.py:294\u001b[0m, in \u001b[0;36m__getattr__\u001b[1;34m(name)\u001b[0m\n\u001b[0;32m    288\u001b[0m     _util\u001b[38;5;241m.\u001b[39mwarn_deprecated(\n\u001b[0;32m    289\u001b[0m         \u001b[38;5;124m\"\u001b[39m\u001b[38;5;124mSingleonThreadPool was a typo in the v2 series. \u001b[39m\u001b[38;5;124m\"\u001b[39m\n\u001b[0;32m    290\u001b[0m         \u001b[38;5;124m\"\u001b[39m\u001b[38;5;124mPlease use the correct SingletonThreadPool name.\u001b[39m\u001b[38;5;124m\"\u001b[39m,\n\u001b[0;32m    291\u001b[0m         \u001b[38;5;124m\"\u001b[39m\u001b[38;5;124m2.0.24\u001b[39m\u001b[38;5;124m\"\u001b[39m,\n\u001b[0;32m    292\u001b[0m     )\n\u001b[0;32m    293\u001b[0m     \u001b[38;5;28;01mreturn\u001b[39;00m SingletonThreadPool\n\u001b[1;32m--> 294\u001b[0m \u001b[38;5;28;01mraise\u001b[39;00m \u001b[38;5;167;01mAttributeError\u001b[39;00m(\u001b[38;5;124mf\u001b[39m\u001b[38;5;124m\"\u001b[39m\u001b[38;5;124mmodule \u001b[39m\u001b[38;5;132;01m{\u001b[39;00m\u001b[38;5;18m__name__\u001b[39m\u001b[38;5;132;01m!r}\u001b[39;00m\u001b[38;5;124m has no attribute \u001b[39m\u001b[38;5;132;01m{\u001b[39;00mname\u001b[38;5;132;01m!r}\u001b[39;00m\u001b[38;5;124m\"\u001b[39m)\n",
      "\u001b[1;31mAttributeError\u001b[0m: module 'sqlalchemy' has no attribute '__all__'"
     ]
    }
   ],
   "source": [
    "# reset_db.py\n",
    "from app import app\n",
    "from extensions import db\n",
    "\n",
    "with app.app_context():\n",
    "    # Drop existing tables\n",
    "    db.drop_all()\n",
    "    # Create new tables\n",
    "    db.create_all()\n"
   ]
  }
 ],
 "metadata": {
  "kernelspec": {
   "display_name": "Python 3 (ipykernel)",
   "language": "python",
   "name": "python3"
  },
  "language_info": {
   "codemirror_mode": {
    "name": "ipython",
    "version": 3
   },
   "file_extension": ".py",
   "mimetype": "text/x-python",
   "name": "python",
   "nbconvert_exporter": "python",
   "pygments_lexer": "ipython3",
   "version": "3.11.7"
  }
 },
 "nbformat": 4,
 "nbformat_minor": 5
}
